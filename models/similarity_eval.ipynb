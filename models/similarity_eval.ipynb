{
 "cells": [
  {
   "cell_type": "code",
   "execution_count": 1,
   "metadata": {},
   "outputs": [],
   "source": [
    "import os\n",
    "import torch\n",
    "from PIL import Image\n",
    "from transformers import CLIPModel, CLIPProcessor, logging\n",
    "\n",
    "# Setup\n",
    "clip_model_id = 'openai/clip-vit-large-patch14'\n",
    "device = 'cuda'\n",
    "logging.set_verbosity_error()\n",
    "torch.manual_seed(1)\n",
    "\n",
    "# Multi-Concept Textual Inversion settings\n",
    "property_name_a = 'tornado'  # Name of first learned property\n",
    "placeholder_token_a = f'<{property_name_a.replace(\"_\", \"-\")}>'  # Token that represents the first new property\n",
    "property_name_b = 'ocean'  # Name of second learned property\n",
    "placeholder_token_b = f'<{property_name_b.replace(\"_\", \"-\")}>'  # Token that represents the second new property\n",
    "target_images_path = f'../data/{property_name_a}_{property_name_b}'\n",
    "samples_path_original = f'generated_images/samples/{property_name_a}_{property_name_b}/original'\n",
    "samples_path_mcti = f'generated_images/samples/{property_name_a}_{property_name_b}/mcti'\n",
    "\n",
    "# Hugging Face access token\n",
    "token = ''\n",
    "with open('hugging_face_token.txt', 'r') as secret:\n",
    "    token = secret.readline().strip()"
   ]
  },
  {
   "cell_type": "code",
   "execution_count": 2,
   "metadata": {},
   "outputs": [],
   "source": [
    "# Load CLIP components\n",
    "model = CLIPModel.from_pretrained(clip_model_id)\n",
    "processor = CLIPProcessor.from_pretrained(clip_model_id)\n",
    "model.to(device)\n",
    "processor.to(device)"
   ]
  },
  {
   "cell_type": "code",
   "execution_count": null,
   "metadata": {},
   "outputs": [],
   "source": [
    "target_images = [Image()]\n",
    "target_inputs = processor(images=target_images, return_tensors='pt')\n",
    "target_features = model.get_image_features(**target_inputs)\n",
    "\n",
    "output_images = [Image()]\n",
    "output_inputs = processor(images=output_images, return_tensors='pt')\n",
    "output_features = model.get_image_features(**output_inputs)\n",
    "\n",
    "# Compare\n",
    "for t in target_features:\n",
    "    for o in output_features:\n",
    "        # TODO: compare t and o with distance, store avg\n",
    "        pass\n",
    "\n",
    "# TODO: Save results to some file\n",
    "\n",
    "# TODO: Create a script in utils to plot everything"
   ]
  }
 ],
 "metadata": {
  "kernelspec": {
   "display_name": "Python 3.8.1 ('venv': venv)",
   "language": "python",
   "name": "python3"
  },
  "language_info": {
   "codemirror_mode": {
    "name": "ipython",
    "version": 3
   },
   "file_extension": ".py",
   "mimetype": "text/x-python",
   "name": "python",
   "nbconvert_exporter": "python",
   "pygments_lexer": "ipython3",
   "version": "3.8.1 (tags/v3.8.1:1b293b6, Dec 18 2019, 23:11:46) [MSC v.1916 64 bit (AMD64)]"
  },
  "orig_nbformat": 4,
  "vscode": {
   "interpreter": {
    "hash": "2cc8010bf3f78e9c10d4febe712c77abe75f8df416c09ebdb6a9b39023fa5c08"
   }
  }
 },
 "nbformat": 4,
 "nbformat_minor": 2
}
