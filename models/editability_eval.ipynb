{
 "cells": [
  {
   "cell_type": "code",
   "execution_count": 1,
   "metadata": {},
   "outputs": [],
   "source": [
    "import os\n",
    "import torch\n",
    "from PIL import Image\n",
    "from torch.nn import CosineSimilarity\n",
    "from transformers import CLIPModel, CLIPProcessor, logging\n",
    "\n",
    "# Setup\n",
    "clip_model_id = 'openai/clip-vit-large-patch14'\n",
    "device = 'cuda'\n",
    "logging.set_verbosity_error()\n",
    "torch.manual_seed(1)\n",
    "\n",
    "# Textual inversion settings\n",
    "property_name = 'grooty'  # Name of learned property\n",
    "\n",
    "# Background test\n",
    "background_prompt = 'A photo of on the moon'\n",
    "samples_path_background = f'generated_images/samples/{property_name}_background'\n",
    "\n",
    "# Style test\n",
    "style_prompt = 'An oil painting of'\n",
    "samples_path_style = f'generated_images/samples/{property_name}_style'\n",
    "\n",
    "# Composition test\n",
    "composition_prompt = 'Elmo holding a'\n",
    "samples_path_composition = f'generated_images/samples/{property_name}_composition'\n",
    "\n",
    "# Hugging Face access token\n",
    "token = ''\n",
    "with open('hugging_face_token.txt', 'r') as secret:\n",
    "    token = secret.readline().strip()"
   ]
  },
  {
   "cell_type": "code",
   "execution_count": 2,
   "metadata": {},
   "outputs": [
    {
     "name": "stdout",
     "output_type": "stream",
     "text": [
      "Loaded CLIP model successfully!\n"
     ]
    }
   ],
   "source": [
    "# Load CLIP components\n",
    "model = CLIPModel.from_pretrained(clip_model_id)\n",
    "processor = CLIPProcessor.from_pretrained(clip_model_id)\n",
    "model.to(device)\n",
    "model.eval()\n",
    "print('Loaded CLIP model successfully!')"
   ]
  },
  {
   "cell_type": "code",
   "execution_count": 3,
   "metadata": {},
   "outputs": [],
   "source": [
    "# Load embeddings by passing images through CLIP\n",
    "def load_avg_embeddings(image_dir):\n",
    "    file_paths = [os.path.join(image_dir, file_path) for file_path in os.listdir(image_dir)]\n",
    "    images = [Image.open(path) for path in file_paths]\n",
    "    with torch.no_grad():\n",
    "        embeddings = model.get_image_features(**processor(images=images, return_tensors='pt').to(device))\n",
    "    return torch.mean(embeddings, dim=0)\n",
    "\n",
    "# Get embeddings for prompts by passing text through CLIP\n",
    "def get_prompt_embeddings(prompts):\n",
    "    with torch.no_grad():\n",
    "        embeddings = model.get_text_features(**processor(text=prompts, return_tensors='pt', padding=True).to(device))\n",
    "    return embeddings\n"
   ]
  },
  {
   "cell_type": "code",
   "execution_count": 4,
   "metadata": {},
   "outputs": [
    {
     "name": "stdout",
     "output_type": "stream",
     "text": [
      "Editability Score (Text Similarity): 0.2639\n"
     ]
    }
   ],
   "source": [
    "# Load CLIP embeddings for each sample\n",
    "avg_features = []\n",
    "for path in (samples_path_background, samples_path_style, samples_path_composition):\n",
    "    avg_features.append(load_avg_embeddings(path))\n",
    "\n",
    "# Get text embeddings\n",
    "prompt_features = get_prompt_embeddings([background_prompt, style_prompt, composition_prompt])\n",
    "\n",
    "# Measure text similarity\n",
    "similarity_acc = 0\n",
    "for n in range(len(avg_features)):\n",
    "    cosine_similarity = CosineSimilarity(dim=0)\n",
    "    similarity = cosine_similarity(avg_features[n], prompt_features[n])\n",
    "    similarity_acc += round(similarity.item(), 4)\n",
    "\n",
    "# Get score\n",
    "editability_score = round(similarity_acc / len(avg_features), 4)\n",
    "print(f'Editability Score (Text Similarity): {editability_score}')"
   ]
  }
 ],
 "metadata": {
  "kernelspec": {
   "display_name": "Python 3.8.1 ('venv': venv)",
   "language": "python",
   "name": "python3"
  },
  "language_info": {
   "codemirror_mode": {
    "name": "ipython",
    "version": 3
   },
   "file_extension": ".py",
   "mimetype": "text/x-python",
   "name": "python",
   "nbconvert_exporter": "python",
   "pygments_lexer": "ipython3",
   "version": "3.8.1"
  },
  "orig_nbformat": 4,
  "vscode": {
   "interpreter": {
    "hash": "2cc8010bf3f78e9c10d4febe712c77abe75f8df416c09ebdb6a9b39023fa5c08"
   }
  }
 },
 "nbformat": 4,
 "nbformat_minor": 2
}
