{
 "cells": [
  {
   "cell_type": "code",
   "execution_count": 1,
   "metadata": {},
   "outputs": [],
   "source": [
    "import os\n",
    "import torch\n",
    "from PIL import Image\n",
    "from torch.nn import CosineSimilarity\n",
    "from transformers import CLIPModel, CLIPProcessor, logging\n",
    "\n",
    "# Setup\n",
    "clip_model_id = 'openai/clip-vit-large-patch14'\n",
    "device = 'cuda'\n",
    "logging.set_verbosity_error()\n",
    "torch.manual_seed(1)\n",
    "\n",
    "# Textual inversion settings\n",
    "property_name = 'grooty'  # Name of learned property\n",
    "target_path = f'../data/{property_name}'  # Path to target images\n",
    "samples_path = f'generated_images/samples/{property_name}'  # Path to generated images\n",
    "\n",
    "# Hugging Face access token\n",
    "token = ''\n",
    "with open('hugging_face_token.txt', 'r') as secret:\n",
    "    token = secret.readline().strip()"
   ]
  },
  {
   "cell_type": "code",
   "execution_count": 2,
   "metadata": {},
   "outputs": [
    {
     "name": "stdout",
     "output_type": "stream",
     "text": [
      "Loaded CLIP model successfully!\n"
     ]
    }
   ],
   "source": [
    "# Load CLIP components\n",
    "model = CLIPModel.from_pretrained(clip_model_id)\n",
    "processor = CLIPProcessor.from_pretrained(clip_model_id)\n",
    "model.to(device)\n",
    "model.eval()\n",
    "print('Loaded CLIP model successfully!')"
   ]
  },
  {
   "cell_type": "code",
   "execution_count": 3,
   "metadata": {},
   "outputs": [],
   "source": [
    "# Load embeddings by passing images through CLIP\n",
    "def load_embeddings(image_dir):\n",
    "    file_paths = [os.path.join(image_dir, file_path) for file_path in os.listdir(image_dir)]\n",
    "    images = [Image.open(path) for path in file_paths]\n",
    "    with torch.no_grad():\n",
    "        embeddings = model.get_image_features(**processor(images=images, return_tensors='pt').to(device))\n",
    "    return embeddings"
   ]
  },
  {
   "cell_type": "code",
   "execution_count": 4,
   "metadata": {},
   "outputs": [
    {
     "name": "stdout",
     "output_type": "stream",
     "text": [
      "Reconstruction Score (Image Similarity): 0.7622\n"
     ]
    }
   ],
   "source": [
    "# Load target images CLIP embeddings\n",
    "target_features = load_embeddings(target_path)\n",
    "\n",
    "# Load sample images CLIP embeddings\n",
    "sample_features = load_embeddings(samples_path)\n",
    "\n",
    "# Measure image similarity\n",
    "similarity_acc = 0\n",
    "for t in target_features:\n",
    "    for s in sample_features:\n",
    "        cosine_similarity = CosineSimilarity(dim=0)\n",
    "        similarity = cosine_similarity(t, s)\n",
    "        similarity_acc += round(similarity.item(), 4)\n",
    "\n",
    "# Get score\n",
    "reconstruction_score = round(similarity_acc / (target_features.shape[0] * sample_features.shape[0]), 4)\n",
    "print(f'Reconstruction Score (Image Similarity): {reconstruction_score}')"
   ]
  }
 ],
 "metadata": {
  "kernelspec": {
   "display_name": "Python 3.8.1 ('venv': venv)",
   "language": "python",
   "name": "python3"
  },
  "language_info": {
   "codemirror_mode": {
    "name": "ipython",
    "version": 3
   },
   "file_extension": ".py",
   "mimetype": "text/x-python",
   "name": "python",
   "nbconvert_exporter": "python",
   "pygments_lexer": "ipython3",
   "version": "3.8.1"
  },
  "orig_nbformat": 4,
  "vscode": {
   "interpreter": {
    "hash": "2cc8010bf3f78e9c10d4febe712c77abe75f8df416c09ebdb6a9b39023fa5c08"
   }
  }
 },
 "nbformat": 4,
 "nbformat_minor": 2
}
